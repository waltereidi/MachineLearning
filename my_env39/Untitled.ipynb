{
 "cells": [
  {
   "cell_type": "code",
   "execution_count": null,
   "id": "526cfc47-3a8b-48c4-95a7-64047c31779f",
   "metadata": {},
   "outputs": [],
   "source": []
  }
 ],
 "metadata": {
  "kernelspec": {
   "display_name": "",
   "name": ""
  },
  "language_info": {
   "name": ""
  }
 },
 "nbformat": 4,
 "nbformat_minor": 5
}
